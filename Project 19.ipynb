{
  "nbformat": 4,
  "nbformat_minor": 0,
  "metadata": {
    "colab": {
      "name": "Covid19predict.ipynb",
      "provenance": [],
      "collapsed_sections": [],
      "toc_visible": true,
      "authorship_tag": "ABX9TyMipK8vRZy8GetWXC+CaLT+",
      "include_colab_link": true
    },
    "kernelspec": {
      "name": "python3",
      "display_name": "Python 3"
    }
  },
  "cells": [
    {
      "cell_type": "markdown",
      "metadata": {
        "id": "view-in-github",
        "colab_type": "text"
      },
      "source": [
        "<a href=\"https://colab.research.google.com/github/AdityaKalkeri/DataTrained-Projects/blob/master/Project%2019.ipynb\" target=\"_parent\"><img src=\"https://colab.research.google.com/assets/colab-badge.svg\" alt=\"Open In Colab\"/></a>"
      ]
    },
    {
      "cell_type": "code",
      "metadata": {
        "id": "k2erIkvgI07m"
      },
      "source": [
        "import numpy as np\n",
        "import pandas as pd\n",
        "import matplotlib.pyplot as plt\n",
        "import seaborn as sns"
      ],
      "execution_count": null,
      "outputs": []
    },
    {
      "cell_type": "code",
      "metadata": {
        "id": "TlBT2njqJ_jU"
      },
      "source": [
        "%matplotlib inline"
      ],
      "execution_count": null,
      "outputs": []
    },
    {
      "cell_type": "code",
      "metadata": {
        "id": "Qx4gvs0YKChd",
        "outputId": "944d3dc1-6a24-4a68-e3c7-a1f0efb23509",
        "colab": {
          "resources": {
            "http://localhost:8080/nbextensions/google.colab/files.js": {
              "data": "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",
              "ok": true,
              "headers": [
                [
                  "content-type",
                  "application/javascript"
                ]
              ],
              "status": 200,
              "status_text": "OK"
            }
          },
          "base_uri": "https://localhost:8080/",
          "height": 79
        }
      },
      "source": [
        "from google.colab import files\n",
        "uploaded = files.upload()"
      ],
      "execution_count": null,
      "outputs": [
        {
          "output_type": "display_data",
          "data": {
            "text/html": [
              "\n",
              "     <input type=\"file\" id=\"files-94e3dfb6-9259-434e-af8b-56ee2b99b3a1\" name=\"files[]\" multiple disabled\n",
              "        style=\"border:none\" />\n",
              "     <output id=\"result-94e3dfb6-9259-434e-af8b-56ee2b99b3a1\">\n",
              "      Upload widget is only available when the cell has been executed in the\n",
              "      current browser session. Please rerun this cell to enable.\n",
              "      </output>\n",
              "      <script src=\"/nbextensions/google.colab/files.js\"></script> "
            ],
            "text/plain": [
              "<IPython.core.display.HTML object>"
            ]
          },
          "metadata": {
            "tags": []
          }
        },
        {
          "output_type": "stream",
          "text": [
            "Saving aggregate_covid_country.csv to aggregate_covid_country.csv\n"
          ],
          "name": "stdout"
        }
      ]
    },
    {
      "cell_type": "code",
      "metadata": {
        "id": "TgBsrCWxKLIX",
        "outputId": "08fcc7af-4cae-42e0-f495-6cf647e56c16",
        "colab": {
          "base_uri": "https://localhost:8080/",
          "height": 206
        }
      },
      "source": [
        "import io \n",
        "  \n",
        "df = pd.read_csv(io.BytesIO(uploaded['aggregate_covid_country.csv'])) \n",
        "df.head()"
      ],
      "execution_count": null,
      "outputs": [
        {
          "output_type": "execute_result",
          "data": {
            "text/html": [
              "<div>\n",
              "<style scoped>\n",
              "    .dataframe tbody tr th:only-of-type {\n",
              "        vertical-align: middle;\n",
              "    }\n",
              "\n",
              "    .dataframe tbody tr th {\n",
              "        vertical-align: top;\n",
              "    }\n",
              "\n",
              "    .dataframe thead th {\n",
              "        text-align: right;\n",
              "    }\n",
              "</style>\n",
              "<table border=\"1\" class=\"dataframe\">\n",
              "  <thead>\n",
              "    <tr style=\"text-align: right;\">\n",
              "      <th></th>\n",
              "      <th>Date</th>\n",
              "      <th>Country</th>\n",
              "      <th>Confirmed</th>\n",
              "      <th>Recovered</th>\n",
              "      <th>Deaths</th>\n",
              "    </tr>\n",
              "  </thead>\n",
              "  <tbody>\n",
              "    <tr>\n",
              "      <th>0</th>\n",
              "      <td>2020-01-22</td>\n",
              "      <td>Afghanistan</td>\n",
              "      <td>0</td>\n",
              "      <td>0</td>\n",
              "      <td>0</td>\n",
              "    </tr>\n",
              "    <tr>\n",
              "      <th>1</th>\n",
              "      <td>2020-01-22</td>\n",
              "      <td>Albania</td>\n",
              "      <td>0</td>\n",
              "      <td>0</td>\n",
              "      <td>0</td>\n",
              "    </tr>\n",
              "    <tr>\n",
              "      <th>2</th>\n",
              "      <td>2020-01-22</td>\n",
              "      <td>Algeria</td>\n",
              "      <td>0</td>\n",
              "      <td>0</td>\n",
              "      <td>0</td>\n",
              "    </tr>\n",
              "    <tr>\n",
              "      <th>3</th>\n",
              "      <td>2020-01-22</td>\n",
              "      <td>Andorra</td>\n",
              "      <td>0</td>\n",
              "      <td>0</td>\n",
              "      <td>0</td>\n",
              "    </tr>\n",
              "    <tr>\n",
              "      <th>4</th>\n",
              "      <td>2020-01-22</td>\n",
              "      <td>Angola</td>\n",
              "      <td>0</td>\n",
              "      <td>0</td>\n",
              "      <td>0</td>\n",
              "    </tr>\n",
              "  </tbody>\n",
              "</table>\n",
              "</div>"
            ],
            "text/plain": [
              "         Date      Country  Confirmed  Recovered  Deaths\n",
              "0  2020-01-22  Afghanistan          0          0       0\n",
              "1  2020-01-22      Albania          0          0       0\n",
              "2  2020-01-22      Algeria          0          0       0\n",
              "3  2020-01-22      Andorra          0          0       0\n",
              "4  2020-01-22       Angola          0          0       0"
            ]
          },
          "metadata": {
            "tags": []
          },
          "execution_count": 5
        }
      ]
    },
    {
      "cell_type": "code",
      "metadata": {
        "id": "7nxEHPSvLQ2e",
        "outputId": "4b556e9f-dcee-48b4-bb6c-fe31dc5698f5",
        "colab": {
          "resources": {
            "http://localhost:8080/nbextensions/google.colab/files.js": {
              "data": "Ly8gQ29weXJpZ2h0IDIwMTcgR29vZ2xlIExMQwovLwovLyBMaWNlbnNlZCB1bmRlciB0aGUgQXBhY2hlIExpY2Vuc2UsIFZlcnNpb24gMi4wICh0aGUgIkxpY2Vuc2UiKTsKLy8geW91IG1heSBub3QgdXNlIHRoaXMgZmlsZSBleGNlcHQgaW4gY29tcGxpYW5jZSB3aXRoIHRoZSBMaWNlbnNlLgovLyBZb3UgbWF5IG9idGFpbiBhIGNvcHkgb2YgdGhlIExpY2Vuc2UgYXQKLy8KLy8gICAgICBodHRwOi8vd3d3LmFwYWNoZS5vcmcvbGljZW5zZXMvTElDRU5TRS0yLjAKLy8KLy8gVW5sZXNzIHJlcXVpcmVkIGJ5IGFwcGxpY2FibGUgbGF3IG9yIGFncmVlZCB0byBpbiB3cml0aW5nLCBzb2Z0d2FyZQovLyBkaXN0cmlidXRlZCB1bmRlciB0aGUgTGljZW5zZSBpcyBkaXN0cmlidXRlZCBvbiBhbiAiQVMgSVMiIEJBU0lTLAovLyBXSVRIT1VUIFdBUlJBTlRJRVMgT1IgQ09ORElUSU9OUyBPRiBBTlkgS0lORCwgZWl0aGVyIGV4cHJlc3Mgb3IgaW1wbGllZC4KLy8gU2VlIHRoZSBMaWNlbnNlIGZvciB0aGUgc3BlY2lmaWMgbGFuZ3VhZ2UgZ292ZXJuaW5nIHBlcm1pc3Npb25zIGFuZAovLyBsaW1pdGF0aW9ucyB1bmRlciB0aGUgTGljZW5zZS4KCi8qKgogKiBAZmlsZW92ZXJ2aWV3IEhlbHBlcnMgZm9yIGdvb2dsZS5jb2xhYiBQeXRob24gbW9kdWxlLgogKi8KKGZ1bmN0aW9uKHNjb3BlKSB7CmZ1bmN0aW9uIHNwYW4odGV4dCwgc3R5bGVBdHRyaWJ1dGVzID0ge30pIHsKICBjb25zdCBlbGVtZW50ID0gZG9jdW1lbnQuY3JlYXRlRWxlbWVudCgnc3BhbicpOwogIGVsZW1lbnQudGV4dENvbnRlbnQgPSB0ZXh0OwogIGZvciAoY29uc3Qga2V5IG9mIE9iamVjdC5rZXlzKHN0eWxlQXR0cmlidXRlcykpIHsKICAgIGVsZW1lbnQuc3R5bGVba2V5XSA9IHN0eWxlQXR0cmlidXRlc1trZXldOwogIH0KICByZXR1cm4gZWxlbWVudDsKfQoKLy8gTWF4IG51bWJlciBvZiBieXRlcyB3aGljaCB3aWxsIGJlIHVwbG9hZGVkIGF0IGEgdGltZS4KY29uc3QgTUFYX1BBWUxPQURfU0laRSA9IDEwMCAqIDEwMjQ7CgpmdW5jdGlvbiBfdXBsb2FkRmlsZXMoaW5wdXRJZCwgb3V0cHV0SWQpIHsKICBjb25zdCBzdGVwcyA9IHVwbG9hZEZpbGVzU3RlcChpbnB1dElkLCBvdXRwdXRJZCk7CiAgY29uc3Qgb3V0cHV0RWxlbWVudCA9IGRvY3VtZW50LmdldEVsZW1lbnRCeUlkKG91dHB1dElkKTsKICAvLyBDYWNoZSBzdGVwcyBvbiB0aGUgb3V0cHV0RWxlbWVudCB0byBtYWtlIGl0IGF2YWlsYWJsZSBmb3IgdGhlIG5leHQgY2FsbAogIC8vIHRvIHVwbG9hZEZpbGVzQ29udGludWUgZnJvbSBQeXRob24uCiAgb3V0cHV0RWxlbWVudC5zdGVwcyA9IHN0ZXBzOwoKICByZXR1cm4gX3VwbG9hZEZpbGVzQ29udGludWUob3V0cHV0SWQpOwp9CgovLyBUaGlzIGlzIHJvdWdobHkgYW4gYXN5bmMgZ2VuZXJhdG9yIChub3Qgc3VwcG9ydGVkIGluIHRoZSBicm93c2VyIHlldCksCi8vIHdoZXJlIHRoZXJlIGFyZSBtdWx0aXBsZSBhc3luY2hyb25vdXMgc3RlcHMgYW5kIHRoZSBQeXRob24gc2lkZSBpcyBnb2luZwovLyB0byBwb2xsIGZvciBjb21wbGV0aW9uIG9mIGVhY2ggc3RlcC4KLy8gVGhpcyB1c2VzIGEgUHJvbWlzZSB0byBibG9jayB0aGUgcHl0aG9uIHNpZGUgb24gY29tcGxldGlvbiBvZiBlYWNoIHN0ZXAsCi8vIHRoZW4gcGFzc2VzIHRoZSByZXN1bHQgb2YgdGhlIHByZXZpb3VzIHN0ZXAgYXMgdGhlIGlucHV0IHRvIHRoZSBuZXh0IHN0ZXAuCmZ1bmN0aW9uIF91cGxvYWRGaWxlc0NvbnRpbnVlKG91dHB1dElkKSB7CiAgY29uc3Qgb3V0cHV0RWxlbWVudCA9IGRvY3VtZW50LmdldEVsZW1lbnRCeUlkKG91dHB1dElkKTsKICBjb25zdCBzdGVwcyA9IG91dHB1dEVsZW1lbnQuc3RlcHM7CgogIGNvbnN0IG5leHQgPSBzdGVwcy5uZXh0KG91dHB1dEVsZW1lbnQubGFzdFByb21pc2VWYWx1ZSk7CiAgcmV0dXJuIFByb21pc2UucmVzb2x2ZShuZXh0LnZhbHVlLnByb21pc2UpLnRoZW4oKHZhbHVlKSA9PiB7CiAgICAvLyBDYWNoZSB0aGUgbGFzdCBwcm9taXNlIHZhbHVlIHRvIG1ha2UgaXQgYXZhaWxhYmxlIHRvIHRoZSBuZXh0CiAgICAvLyBzdGVwIG9mIHRoZSBnZW5lcmF0b3IuCiAgICBvdXRwdXRFbGVtZW50Lmxhc3RQcm9taXNlVmFsdWUgPSB2YWx1ZTsKICAgIHJldHVybiBuZXh0LnZhbHVlLnJlc3BvbnNlOwogIH0pOwp9CgovKioKICogR2VuZXJhdG9yIGZ1bmN0aW9uIHdoaWNoIGlzIGNhbGxlZCBiZXR3ZWVuIGVhY2ggYXN5bmMgc3RlcCBvZiB0aGUgdXBsb2FkCiAqIHByb2Nlc3MuCiAqIEBwYXJhbSB7c3RyaW5nfSBpbnB1dElkIEVsZW1lbnQgSUQgb2YgdGhlIGlucHV0IGZpbGUgcGlja2VyIGVsZW1lbnQuCiAqIEBwYXJhbSB7c3RyaW5nfSBvdXRwdXRJZCBFbGVtZW50IElEIG9mIHRoZSBvdXRwdXQgZGlzcGxheS4KICogQHJldHVybiB7IUl0ZXJhYmxlPCFPYmplY3Q+fSBJdGVyYWJsZSBvZiBuZXh0IHN0ZXBzLgogKi8KZnVuY3Rpb24qIHVwbG9hZEZpbGVzU3RlcChpbnB1dElkLCBvdXRwdXRJZCkgewogIGNvbnN0IGlucHV0RWxlbWVudCA9IGRvY3VtZW50LmdldEVsZW1lbnRCeUlkKGlucHV0SWQpOwogIGlucHV0RWxlbWVudC5kaXNhYmxlZCA9IGZhbHNlOwoKICBjb25zdCBvdXRwdXRFbGVtZW50ID0gZG9jdW1lbnQuZ2V0RWxlbWVudEJ5SWQob3V0cHV0SWQpOwogIG91dHB1dEVsZW1lbnQuaW5uZXJIVE1MID0gJyc7CgogIGNvbnN0IHBpY2tlZFByb21pc2UgPSBuZXcgUHJvbWlzZSgocmVzb2x2ZSkgPT4gewogICAgaW5wdXRFbGVtZW50LmFkZEV2ZW50TGlzdGVuZXIoJ2NoYW5nZScsIChlKSA9PiB7CiAgICAgIHJlc29sdmUoZS50YXJnZXQuZmlsZXMpOwogICAgfSk7CiAgfSk7CgogIGNvbnN0IGNhbmNlbCA9IGRvY3VtZW50LmNyZWF0ZUVsZW1lbnQoJ2J1dHRvbicpOwogIGlucHV0RWxlbWVudC5wYXJlbnRFbGVtZW50LmFwcGVuZENoaWxkKGNhbmNlbCk7CiAgY2FuY2VsLnRleHRDb250ZW50ID0gJ0NhbmNlbCB1cGxvYWQnOwogIGNvbnN0IGNhbmNlbFByb21pc2UgPSBuZXcgUHJvbWlzZSgocmVzb2x2ZSkgPT4gewogICAgY2FuY2VsLm9uY2xpY2sgPSAoKSA9PiB7CiAgICAgIHJlc29sdmUobnVsbCk7CiAgICB9OwogIH0pOwoKICAvLyBXYWl0IGZvciB0aGUgdXNlciB0byBwaWNrIHRoZSBmaWxlcy4KICBjb25zdCBmaWxlcyA9IHlpZWxkIHsKICAgIHByb21pc2U6IFByb21pc2UucmFjZShbcGlja2VkUHJvbWlzZSwgY2FuY2VsUHJvbWlzZV0pLAogICAgcmVzcG9uc2U6IHsKICAgICAgYWN0aW9uOiAnc3RhcnRpbmcnLAogICAgfQogIH07CgogIGNhbmNlbC5yZW1vdmUoKTsKCiAgLy8gRGlzYWJsZSB0aGUgaW5wdXQgZWxlbWVudCBzaW5jZSBmdXJ0aGVyIHBpY2tzIGFyZSBub3QgYWxsb3dlZC4KICBpbnB1dEVsZW1lbnQuZGlzYWJsZWQgPSB0cnVlOwoKICBpZiAoIWZpbGVzKSB7CiAgICByZXR1cm4gewogICAgICByZXNwb25zZTogewogICAgICAgIGFjdGlvbjogJ2NvbXBsZXRlJywKICAgICAgfQogICAgfTsKICB9CgogIGZvciAoY29uc3QgZmlsZSBvZiBmaWxlcykgewogICAgY29uc3QgbGkgPSBkb2N1bWVudC5jcmVhdGVFbGVtZW50KCdsaScpOwogICAgbGkuYXBwZW5kKHNwYW4oZmlsZS5uYW1lLCB7Zm9udFdlaWdodDogJ2JvbGQnfSkpOwogICAgbGkuYXBwZW5kKHNwYW4oCiAgICAgICAgYCgke2ZpbGUudHlwZSB8fCAnbi9hJ30pIC0gJHtmaWxlLnNpemV9IGJ5dGVzLCBgICsKICAgICAgICBgbGFzdCBtb2RpZmllZDogJHsKICAgICAgICAgICAgZmlsZS5sYXN0TW9kaWZpZWREYXRlID8gZmlsZS5sYXN0TW9kaWZpZWREYXRlLnRvTG9jYWxlRGF0ZVN0cmluZygpIDoKICAgICAgICAgICAgICAgICAgICAgICAgICAgICAgICAgICAgJ24vYSd9IC0gYCkpOwogICAgY29uc3QgcGVyY2VudCA9IHNwYW4oJzAlIGRvbmUnKTsKICAgIGxpLmFwcGVuZENoaWxkKHBlcmNlbnQpOwoKICAgIG91dHB1dEVsZW1lbnQuYXBwZW5kQ2hpbGQobGkpOwoKICAgIGNvbnN0IGZpbGVEYXRhUHJvbWlzZSA9IG5ldyBQcm9taXNlKChyZXNvbHZlKSA9PiB7CiAgICAgIGNvbnN0IHJlYWRlciA9IG5ldyBGaWxlUmVhZGVyKCk7CiAgICAgIHJlYWRlci5vbmxvYWQgPSAoZSkgPT4gewogICAgICAgIHJlc29sdmUoZS50YXJnZXQucmVzdWx0KTsKICAgICAgfTsKICAgICAgcmVhZGVyLnJlYWRBc0FycmF5QnVmZmVyKGZpbGUpOwogICAgfSk7CiAgICAvLyBXYWl0IGZvciB0aGUgZGF0YSB0byBiZSByZWFkeS4KICAgIGxldCBmaWxlRGF0YSA9IHlpZWxkIHsKICAgICAgcHJvbWlzZTogZmlsZURhdGFQcm9taXNlLAogICAgICByZXNwb25zZTogewogICAgICAgIGFjdGlvbjogJ2NvbnRpbnVlJywKICAgICAgfQogICAgfTsKCiAgICAvLyBVc2UgYSBjaHVua2VkIHNlbmRpbmcgdG8gYXZvaWQgbWVzc2FnZSBzaXplIGxpbWl0cy4gU2VlIGIvNjIxMTU2NjAuCiAgICBsZXQgcG9zaXRpb24gPSAwOwogICAgd2hpbGUgKHBvc2l0aW9uIDwgZmlsZURhdGEuYnl0ZUxlbmd0aCkgewogICAgICBjb25zdCBsZW5ndGggPSBNYXRoLm1pbihmaWxlRGF0YS5ieXRlTGVuZ3RoIC0gcG9zaXRpb24sIE1BWF9QQVlMT0FEX1NJWkUpOwogICAgICBjb25zdCBjaHVuayA9IG5ldyBVaW50OEFycmF5KGZpbGVEYXRhLCBwb3NpdGlvbiwgbGVuZ3RoKTsKICAgICAgcG9zaXRpb24gKz0gbGVuZ3RoOwoKICAgICAgY29uc3QgYmFzZTY0ID0gYnRvYShTdHJpbmcuZnJvbUNoYXJDb2RlLmFwcGx5KG51bGwsIGNodW5rKSk7CiAgICAgIHlpZWxkIHsKICAgICAgICByZXNwb25zZTogewogICAgICAgICAgYWN0aW9uOiAnYXBwZW5kJywKICAgICAgICAgIGZpbGU6IGZpbGUubmFtZSwKICAgICAgICAgIGRhdGE6IGJhc2U2NCwKICAgICAgICB9LAogICAgICB9OwogICAgICBwZXJjZW50LnRleHRDb250ZW50ID0KICAgICAgICAgIGAke01hdGgucm91bmQoKHBvc2l0aW9uIC8gZmlsZURhdGEuYnl0ZUxlbmd0aCkgKiAxMDApfSUgZG9uZWA7CiAgICB9CiAgfQoKICAvLyBBbGwgZG9uZS4KICB5aWVsZCB7CiAgICByZXNwb25zZTogewogICAgICBhY3Rpb246ICdjb21wbGV0ZScsCiAgICB9CiAgfTsKfQoKc2NvcGUuZ29vZ2xlID0gc2NvcGUuZ29vZ2xlIHx8IHt9OwpzY29wZS5nb29nbGUuY29sYWIgPSBzY29wZS5nb29nbGUuY29sYWIgfHwge307CnNjb3BlLmdvb2dsZS5jb2xhYi5fZmlsZXMgPSB7CiAgX3VwbG9hZEZpbGVzLAogIF91cGxvYWRGaWxlc0NvbnRpbnVlLAp9Owp9KShzZWxmKTsK",
              "ok": true,
              "headers": [
                [
                  "content-type",
                  "application/javascript"
                ]
              ],
              "status": 200,
              "status_text": "OK"
            }
          },
          "base_uri": "https://localhost:8080/",
          "height": 79
        }
      },
      "source": [
        "uploaded2 = files.upload()"
      ],
      "execution_count": null,
      "outputs": [
        {
          "output_type": "display_data",
          "data": {
            "text/html": [
              "\n",
              "     <input type=\"file\" id=\"files-7e4430b3-c5cf-465a-a92e-e9f99537313f\" name=\"files[]\" multiple disabled\n",
              "        style=\"border:none\" />\n",
              "     <output id=\"result-7e4430b3-c5cf-465a-a92e-e9f99537313f\">\n",
              "      Upload widget is only available when the cell has been executed in the\n",
              "      current browser session. Please rerun this cell to enable.\n",
              "      </output>\n",
              "      <script src=\"/nbextensions/google.colab/files.js\"></script> "
            ],
            "text/plain": [
              "<IPython.core.display.HTML object>"
            ]
          },
          "metadata": {
            "tags": []
          }
        },
        {
          "output_type": "stream",
          "text": [
            "Saving continent.csv to continent.csv\n"
          ],
          "name": "stdout"
        }
      ]
    },
    {
      "cell_type": "code",
      "metadata": {
        "id": "HxZv14bNLZUD",
        "outputId": "6b7e0126-fad6-4417-c033-f28b0f58b893",
        "colab": {
          "base_uri": "https://localhost:8080/",
          "height": 206
        }
      },
      "source": [
        "df1= pd.read_csv(io.BytesIO(uploaded2['continent.csv']), encoding='cp1252') \n",
        "df1.head()"
      ],
      "execution_count": null,
      "outputs": [
        {
          "output_type": "execute_result",
          "data": {
            "text/html": [
              "<div>\n",
              "<style scoped>\n",
              "    .dataframe tbody tr th:only-of-type {\n",
              "        vertical-align: middle;\n",
              "    }\n",
              "\n",
              "    .dataframe tbody tr th {\n",
              "        vertical-align: top;\n",
              "    }\n",
              "\n",
              "    .dataframe thead th {\n",
              "        text-align: right;\n",
              "    }\n",
              "</style>\n",
              "<table border=\"1\" class=\"dataframe\">\n",
              "  <thead>\n",
              "    <tr style=\"text-align: right;\">\n",
              "      <th></th>\n",
              "      <th>country</th>\n",
              "      <th>code_2</th>\n",
              "      <th>code_3</th>\n",
              "      <th>country_code</th>\n",
              "      <th>iso_3166_2</th>\n",
              "      <th>continent</th>\n",
              "      <th>sub_region</th>\n",
              "      <th>region_code</th>\n",
              "      <th>sub_region_code</th>\n",
              "    </tr>\n",
              "  </thead>\n",
              "  <tbody>\n",
              "    <tr>\n",
              "      <th>0</th>\n",
              "      <td>Afghanistan</td>\n",
              "      <td>AF</td>\n",
              "      <td>AFG</td>\n",
              "      <td>4</td>\n",
              "      <td>ISO 3166-2:AF</td>\n",
              "      <td>Asia</td>\n",
              "      <td>Southern Asia</td>\n",
              "      <td>142.0</td>\n",
              "      <td>34.0</td>\n",
              "    </tr>\n",
              "    <tr>\n",
              "      <th>1</th>\n",
              "      <td>Åland Islands</td>\n",
              "      <td>AX</td>\n",
              "      <td>ALA</td>\n",
              "      <td>248</td>\n",
              "      <td>ISO 3166-2:AX</td>\n",
              "      <td>Europe</td>\n",
              "      <td>Northern Europe</td>\n",
              "      <td>150.0</td>\n",
              "      <td>154.0</td>\n",
              "    </tr>\n",
              "    <tr>\n",
              "      <th>2</th>\n",
              "      <td>Albania</td>\n",
              "      <td>AL</td>\n",
              "      <td>ALB</td>\n",
              "      <td>8</td>\n",
              "      <td>ISO 3166-2:AL</td>\n",
              "      <td>Europe</td>\n",
              "      <td>Southern Europe</td>\n",
              "      <td>150.0</td>\n",
              "      <td>39.0</td>\n",
              "    </tr>\n",
              "    <tr>\n",
              "      <th>3</th>\n",
              "      <td>Algeria</td>\n",
              "      <td>DZ</td>\n",
              "      <td>DZA</td>\n",
              "      <td>12</td>\n",
              "      <td>ISO 3166-2:DZ</td>\n",
              "      <td>Africa</td>\n",
              "      <td>Northern Africa</td>\n",
              "      <td>2.0</td>\n",
              "      <td>15.0</td>\n",
              "    </tr>\n",
              "    <tr>\n",
              "      <th>4</th>\n",
              "      <td>American Samoa</td>\n",
              "      <td>AS</td>\n",
              "      <td>ASM</td>\n",
              "      <td>16</td>\n",
              "      <td>ISO 3166-2:AS</td>\n",
              "      <td>Oceania</td>\n",
              "      <td>Polynesia</td>\n",
              "      <td>9.0</td>\n",
              "      <td>61.0</td>\n",
              "    </tr>\n",
              "  </tbody>\n",
              "</table>\n",
              "</div>"
            ],
            "text/plain": [
              "          country code_2 code_3  ...       sub_region region_code sub_region_code\n",
              "0     Afghanistan     AF    AFG  ...    Southern Asia       142.0            34.0\n",
              "1   Åland Islands     AX    ALA  ...  Northern Europe       150.0           154.0\n",
              "2         Albania     AL    ALB  ...  Southern Europe       150.0            39.0\n",
              "3         Algeria     DZ    DZA  ...  Northern Africa         2.0            15.0\n",
              "4  American Samoa     AS    ASM  ...        Polynesia         9.0            61.0\n",
              "\n",
              "[5 rows x 9 columns]"
            ]
          },
          "metadata": {
            "tags": []
          },
          "execution_count": 7
        }
      ]
    },
    {
      "cell_type": "code",
      "metadata": {
        "id": "ehKv5pnCLhCW",
        "outputId": "926eb0db-ea21-4c22-fd86-75aa9162b29e",
        "colab": {
          "base_uri": "https://localhost:8080/"
        }
      },
      "source": [
        "df1 = df1[[\"country\", \"continent\"]]\n",
        "df1.rename(columns={\"country\": \"Country\"}, inplace = True)\n",
        "#lets check which countries dont match in both the dataframes\n",
        "not_match= []\n",
        "for i in df[\"Country\"].unique():\n",
        "    if i not in df1[\"Country\"].unique():\n",
        "        not_match.append(i)\n",
        "\n",
        "not_match"
      ],
      "execution_count": null,
      "outputs": [
        {
          "output_type": "execute_result",
          "data": {
            "text/plain": [
              "['Bolivia',\n",
              " 'Brunei',\n",
              " 'Burma',\n",
              " 'Congo (Brazzaville)',\n",
              " 'Congo (Kinshasa)',\n",
              " \"Cote d'Ivoire\",\n",
              " 'Czechia',\n",
              " 'Diamond Princess',\n",
              " 'Eswatini',\n",
              " 'Iran',\n",
              " 'Korea, South',\n",
              " 'Kosovo',\n",
              " 'Laos',\n",
              " 'MS Zaandam',\n",
              " 'Moldova',\n",
              " 'North Macedonia',\n",
              " 'Russia',\n",
              " 'Syria',\n",
              " 'Taiwan*',\n",
              " 'Tanzania',\n",
              " 'US',\n",
              " 'United Kingdom',\n",
              " 'Venezuela',\n",
              " 'Vietnam',\n",
              " 'West Bank and Gaza']"
            ]
          },
          "metadata": {
            "tags": []
          },
          "execution_count": 8
        }
      ]
    },
    {
      "cell_type": "code",
      "metadata": {
        "id": "sagteN9AMkmg",
        "outputId": "788d924c-c14d-4fe5-ab01-797d6d2beab6",
        "colab": {
          "base_uri": "https://localhost:8080/",
          "height": 206
        }
      },
      "source": [
        "country_dict = {\n",
        "\"Bolivia\" : 'Bolivia (Plurinational State of)',\n",
        "'Brunei' : 'Brunei Darussalam',\n",
        "'Burma' : 'Myanmar',\n",
        "'Congo (kinasha)' : 'Congo (Democratic Republic of the)',\n",
        "'Congo (Brazzaville)' : 'Congo',\n",
        "'Czechia' : 'Czech Republic',\n",
        "'Iran' : 'Iran (Islamic Republic of)',\n",
        "'Korea, South' : 'Republic of Korea',\n",
        "'Laos' : '''Lao People's Democratic Republic''',\n",
        "'North Macedonia' : 'Macedonia (the former Yugoslav Republic of)',\n",
        "'Russia' : 'Russian Federation',\n",
        "'Taiwan*' : 'Taiwan, Province of China',\n",
        "'Tanzania' : 'Tanzania, United Republic of',\n",
        "'US': 'United States of America',\n",
        "'United Kingdom' : 'United Kingdom of Great Britain and Northern Ireland',\n",
        "'Venezuela' : 'Venezuela (Bolivarian Republic of)',\n",
        "'Vietnam' : 'Viet Nam',\n",
        "'Moldova' :'Moldova (Republic of)'\n",
        "}\n",
        "dict1 = {}\n",
        "for i in country_dict:\n",
        "    dict1[country_dict[i]] = i \n",
        "\n",
        "df1[\"Country\"] = df1['Country'].replace(dict1)\n",
        "\n",
        "df1.head()"
      ],
      "execution_count": null,
      "outputs": [
        {
          "output_type": "execute_result",
          "data": {
            "text/html": [
              "<div>\n",
              "<style scoped>\n",
              "    .dataframe tbody tr th:only-of-type {\n",
              "        vertical-align: middle;\n",
              "    }\n",
              "\n",
              "    .dataframe tbody tr th {\n",
              "        vertical-align: top;\n",
              "    }\n",
              "\n",
              "    .dataframe thead th {\n",
              "        text-align: right;\n",
              "    }\n",
              "</style>\n",
              "<table border=\"1\" class=\"dataframe\">\n",
              "  <thead>\n",
              "    <tr style=\"text-align: right;\">\n",
              "      <th></th>\n",
              "      <th>Country</th>\n",
              "      <th>continent</th>\n",
              "    </tr>\n",
              "  </thead>\n",
              "  <tbody>\n",
              "    <tr>\n",
              "      <th>0</th>\n",
              "      <td>Afghanistan</td>\n",
              "      <td>Asia</td>\n",
              "    </tr>\n",
              "    <tr>\n",
              "      <th>1</th>\n",
              "      <td>Åland Islands</td>\n",
              "      <td>Europe</td>\n",
              "    </tr>\n",
              "    <tr>\n",
              "      <th>2</th>\n",
              "      <td>Albania</td>\n",
              "      <td>Europe</td>\n",
              "    </tr>\n",
              "    <tr>\n",
              "      <th>3</th>\n",
              "      <td>Algeria</td>\n",
              "      <td>Africa</td>\n",
              "    </tr>\n",
              "    <tr>\n",
              "      <th>4</th>\n",
              "      <td>American Samoa</td>\n",
              "      <td>Oceania</td>\n",
              "    </tr>\n",
              "  </tbody>\n",
              "</table>\n",
              "</div>"
            ],
            "text/plain": [
              "          Country continent\n",
              "0     Afghanistan      Asia\n",
              "1   Åland Islands    Europe\n",
              "2         Albania    Europe\n",
              "3         Algeria    Africa\n",
              "4  American Samoa   Oceania"
            ]
          },
          "metadata": {
            "tags": []
          },
          "execution_count": 9
        }
      ]
    },
    {
      "cell_type": "code",
      "metadata": {
        "id": "HjRehrJYMpKw",
        "outputId": "65ee33dc-827e-42f9-ed94-4631f63dbd7c",
        "colab": {
          "base_uri": "https://localhost:8080/"
        }
      },
      "source": [
        "df1.set_index(\"Country\", inplace = True)\n",
        "map_dict = df1[\"continent\"].to_dict()\n",
        "map_dict"
      ],
      "execution_count": null,
      "outputs": [
        {
          "output_type": "execute_result",
          "data": {
            "text/plain": [
              "{'Afghanistan': 'Asia',\n",
              " 'Albania': 'Europe',\n",
              " 'Algeria': 'Africa',\n",
              " 'American Samoa': 'Oceania',\n",
              " 'Andorra': 'Europe',\n",
              " 'Angola': 'Africa',\n",
              " 'Anguilla': 'Americas',\n",
              " 'Antarctica': nan,\n",
              " 'Antigua and Barbuda': 'Americas',\n",
              " 'Argentina': 'Americas',\n",
              " 'Armenia': 'Asia',\n",
              " 'Aruba': 'Americas',\n",
              " 'Australia': 'Oceania',\n",
              " 'Austria': 'Europe',\n",
              " 'Azerbaijan': 'Asia',\n",
              " 'Bahamas': 'Americas',\n",
              " 'Bahrain': 'Asia',\n",
              " 'Bangladesh': 'Asia',\n",
              " 'Barbados': 'Americas',\n",
              " 'Belarus': 'Europe',\n",
              " 'Belgium': 'Europe',\n",
              " 'Belize': 'Americas',\n",
              " 'Benin': 'Africa',\n",
              " 'Bermuda': 'Americas',\n",
              " 'Bhutan': 'Asia',\n",
              " 'Bolivia': 'Americas',\n",
              " 'Bonaire, Sint Eustatius and Saba': 'Americas',\n",
              " 'Bosnia and Herzegovina': 'Europe',\n",
              " 'Botswana': 'Africa',\n",
              " 'Bouvet Island': nan,\n",
              " 'Brazil': 'Americas',\n",
              " 'British Indian Ocean Territory': nan,\n",
              " 'Brunei': 'Asia',\n",
              " 'Bulgaria': 'Europe',\n",
              " 'Burkina Faso': 'Africa',\n",
              " 'Burma': 'Asia',\n",
              " 'Burundi': 'Africa',\n",
              " 'Cabo Verde': 'Africa',\n",
              " 'Cambodia': 'Asia',\n",
              " 'Cameroon': 'Africa',\n",
              " 'Canada': 'Americas',\n",
              " 'Cayman Islands': 'Americas',\n",
              " 'Central African Republic': 'Africa',\n",
              " 'Chad': 'Africa',\n",
              " 'Chile': 'Americas',\n",
              " 'China': 'Asia',\n",
              " 'Christmas Island': nan,\n",
              " 'Cocos (Keeling) Islands': nan,\n",
              " 'Colombia': 'Americas',\n",
              " 'Comoros': 'Africa',\n",
              " 'Congo (Brazzaville)': 'Africa',\n",
              " 'Congo (kinasha)': 'Africa',\n",
              " 'Cook Islands': 'Oceania',\n",
              " 'Costa Rica': 'Americas',\n",
              " 'Croatia': 'Europe',\n",
              " 'Cuba': 'Americas',\n",
              " 'Curaçao': 'Americas',\n",
              " 'Cyprus': 'Asia',\n",
              " 'Czechia': 'Europe',\n",
              " \"Côte d'Ivoire\": 'Africa',\n",
              " 'Denmark': 'Europe',\n",
              " 'Djibouti': 'Africa',\n",
              " 'Dominica': 'Americas',\n",
              " 'Dominican Republic': 'Americas',\n",
              " 'Ecuador': 'Americas',\n",
              " 'Egypt': 'Africa',\n",
              " 'El Salvador': 'Americas',\n",
              " 'Equatorial Guinea': 'Africa',\n",
              " 'Eritrea': 'Africa',\n",
              " 'Estonia': 'Europe',\n",
              " 'Ethiopia': 'Africa',\n",
              " 'Falkland Islands (Malvinas)': 'Americas',\n",
              " 'Faroe Islands': 'Europe',\n",
              " 'Fiji': 'Oceania',\n",
              " 'Finland': 'Europe',\n",
              " 'France': 'Europe',\n",
              " 'French Guiana': 'Americas',\n",
              " 'French Polynesia': 'Oceania',\n",
              " 'French Southern Territories': nan,\n",
              " 'Gabon': 'Africa',\n",
              " 'Gambia': 'Africa',\n",
              " 'Georgia': 'Asia',\n",
              " 'Germany': 'Europe',\n",
              " 'Ghana': 'Africa',\n",
              " 'Gibraltar': 'Europe',\n",
              " 'Greece': 'Europe',\n",
              " 'Greenland': 'Americas',\n",
              " 'Grenada': 'Americas',\n",
              " 'Guadeloupe': 'Americas',\n",
              " 'Guam': 'Oceania',\n",
              " 'Guatemala': 'Americas',\n",
              " 'Guernsey': 'Europe',\n",
              " 'Guinea': 'Africa',\n",
              " 'Guinea-Bissau': 'Africa',\n",
              " 'Guyana': 'Americas',\n",
              " 'Haiti': 'Americas',\n",
              " 'Heard Island and McDonald Islands': nan,\n",
              " 'Holy See': 'Europe',\n",
              " 'Honduras': 'Americas',\n",
              " 'Hong Kong': 'Asia',\n",
              " 'Hungary': 'Europe',\n",
              " 'Iceland': 'Europe',\n",
              " 'India': 'Asia',\n",
              " 'Indonesia': 'Asia',\n",
              " 'Iran': 'Asia',\n",
              " 'Iraq': 'Asia',\n",
              " 'Ireland': 'Europe',\n",
              " 'Isle of Man': 'Europe',\n",
              " 'Israel': 'Asia',\n",
              " 'Italy': 'Europe',\n",
              " 'Jamaica': 'Americas',\n",
              " 'Japan': 'Asia',\n",
              " 'Jersey': 'Europe',\n",
              " 'Jordan': 'Asia',\n",
              " 'Kazakhstan': 'Asia',\n",
              " 'Kenya': 'Africa',\n",
              " 'Kiribati': 'Oceania',\n",
              " \"Korea (Democratic People's Republic of)\": 'Asia',\n",
              " 'Korea (Republic of)': 'Asia',\n",
              " 'Kuwait': 'Asia',\n",
              " 'Kyrgyzstan': 'Asia',\n",
              " 'Laos': 'Asia',\n",
              " 'Latvia': 'Europe',\n",
              " 'Lebanon': 'Asia',\n",
              " 'Lesotho': 'Africa',\n",
              " 'Liberia': 'Africa',\n",
              " 'Libya': 'Africa',\n",
              " 'Liechtenstein': 'Europe',\n",
              " 'Lithuania': 'Europe',\n",
              " 'Luxembourg': 'Europe',\n",
              " 'Macao': 'Asia',\n",
              " 'Madagascar': 'Africa',\n",
              " 'Malawi': 'Africa',\n",
              " 'Malaysia': 'Asia',\n",
              " 'Maldives': 'Asia',\n",
              " 'Mali': 'Africa',\n",
              " 'Malta': 'Europe',\n",
              " 'Marshall Islands': 'Oceania',\n",
              " 'Martinique': 'Americas',\n",
              " 'Mauritania': 'Africa',\n",
              " 'Mauritius': 'Africa',\n",
              " 'Mayotte': 'Africa',\n",
              " 'Mexico': 'Americas',\n",
              " 'Micronesia (Federated States of)': 'Oceania',\n",
              " 'Moldova': 'Europe',\n",
              " 'Monaco': 'Europe',\n",
              " 'Mongolia': 'Asia',\n",
              " 'Montenegro': 'Europe',\n",
              " 'Montserrat': 'Americas',\n",
              " 'Morocco': 'Africa',\n",
              " 'Mozambique': 'Africa',\n",
              " 'Namibia': 'Africa',\n",
              " 'Nauru': 'Oceania',\n",
              " 'Nepal': 'Asia',\n",
              " 'Netherlands': 'Europe',\n",
              " 'New Caledonia': 'Oceania',\n",
              " 'New Zealand': 'Oceania',\n",
              " 'Nicaragua': 'Americas',\n",
              " 'Niger': 'Africa',\n",
              " 'Nigeria': 'Africa',\n",
              " 'Niue': 'Oceania',\n",
              " 'Norfolk Island': 'Oceania',\n",
              " 'North Macedonia': 'Europe',\n",
              " 'Northern Mariana Islands': 'Oceania',\n",
              " 'Norway': 'Europe',\n",
              " 'Oman': 'Asia',\n",
              " 'Pakistan': 'Asia',\n",
              " 'Palau': 'Oceania',\n",
              " 'Palestine, State of': 'Asia',\n",
              " 'Panama': 'Americas',\n",
              " 'Papua New Guinea': 'Oceania',\n",
              " 'Paraguay': 'Americas',\n",
              " 'Peru': 'Americas',\n",
              " 'Philippines': 'Asia',\n",
              " 'Pitcairn': 'Oceania',\n",
              " 'Poland': 'Europe',\n",
              " 'Portugal': 'Europe',\n",
              " 'Puerto Rico': 'Americas',\n",
              " 'Qatar': 'Asia',\n",
              " 'Romania': 'Europe',\n",
              " 'Russia': 'Europe',\n",
              " 'Rwanda': 'Africa',\n",
              " 'Réunion': 'Africa',\n",
              " 'Saint Barthélemy': 'Americas',\n",
              " 'Saint Helena, Ascension and Tristan da Cunha': 'Africa',\n",
              " 'Saint Kitts and Nevis': 'Americas',\n",
              " 'Saint Lucia': 'Americas',\n",
              " 'Saint Martin (French part)': 'Americas',\n",
              " 'Saint Pierre and Miquelon': 'Americas',\n",
              " 'Saint Vincent and the Grenadines': 'Americas',\n",
              " 'Samoa': 'Oceania',\n",
              " 'San Marino': 'Europe',\n",
              " 'Sao Tome and Principe': 'Africa',\n",
              " 'Saudi Arabia': 'Asia',\n",
              " 'Senegal': 'Africa',\n",
              " 'Serbia': 'Europe',\n",
              " 'Seychelles': 'Africa',\n",
              " 'Sierra Leone': 'Africa',\n",
              " 'Singapore': 'Asia',\n",
              " 'Sint Maarten (Dutch part)': 'Americas',\n",
              " 'Slovakia': 'Europe',\n",
              " 'Slovenia': 'Europe',\n",
              " 'Solomon Islands': 'Oceania',\n",
              " 'Somalia': 'Africa',\n",
              " 'South Africa': 'Africa',\n",
              " 'South Georgia and the South Sandwich Islands': nan,\n",
              " 'South Sudan': 'Africa',\n",
              " 'Spain': 'Europe',\n",
              " 'Sri Lanka': 'Asia',\n",
              " 'Sudan': 'Africa',\n",
              " 'Suriname': 'Americas',\n",
              " 'Svalbard and Jan Mayen': 'Europe',\n",
              " 'Swaziland': 'Africa',\n",
              " 'Sweden': 'Europe',\n",
              " 'Switzerland': 'Europe',\n",
              " 'Syrian Arab Republic': 'Asia',\n",
              " 'Taiwan*': 'Asia',\n",
              " 'Tajikistan': 'Asia',\n",
              " 'Tanzania': 'Africa',\n",
              " 'Thailand': 'Asia',\n",
              " 'Timor-Leste': 'Asia',\n",
              " 'Togo': 'Africa',\n",
              " 'Tokelau': 'Oceania',\n",
              " 'Tonga': 'Oceania',\n",
              " 'Trinidad and Tobago': 'Americas',\n",
              " 'Tunisia': 'Africa',\n",
              " 'Turkey': 'Asia',\n",
              " 'Turkmenistan': 'Asia',\n",
              " 'Turks and Caicos Islands': 'Americas',\n",
              " 'Tuvalu': 'Oceania',\n",
              " 'US': 'Americas',\n",
              " 'Uganda': 'Africa',\n",
              " 'Ukraine': 'Europe',\n",
              " 'United Arab Emirates': 'Asia',\n",
              " 'United Kingdom': 'Europe',\n",
              " 'United States Minor Outlying Islands': nan,\n",
              " 'Uruguay': 'Americas',\n",
              " 'Uzbekistan': 'Asia',\n",
              " 'Vanuatu': 'Oceania',\n",
              " 'Venezuela': 'Americas',\n",
              " 'Vietnam': 'Asia',\n",
              " 'Virgin Islands (British)': 'Americas',\n",
              " 'Virgin Islands (U.S.)': 'Americas',\n",
              " 'Wallis and Futuna': 'Oceania',\n",
              " 'Western Sahara': 'Africa',\n",
              " 'Yemen': 'Asia',\n",
              " 'Zambia': 'Africa',\n",
              " 'Zimbabwe': 'Africa',\n",
              " 'Åland Islands': 'Europe'}"
            ]
          },
          "metadata": {
            "tags": []
          },
          "execution_count": 10
        }
      ]
    },
    {
      "cell_type": "code",
      "metadata": {
        "id": "Dr3y7Lp4MuOm"
      },
      "source": [
        "def continent(row):\n",
        "    try:\n",
        "        row[\"Continent\"] = map_dict[row[\"Country\"]]\n",
        "    except:\n",
        "        row[\"Continent\"] = np.nan\n",
        "    return row\n",
        "df = df.apply(continent, axis = 1)"
      ],
      "execution_count": null,
      "outputs": []
    },
    {
      "cell_type": "code",
      "metadata": {
        "id": "LpHhNT90NH25",
        "outputId": "1d6d3ae9-c2df-4aa4-c4dd-e44e5b2fd77d",
        "colab": {
          "base_uri": "https://localhost:8080/"
        }
      },
      "source": [
        "bool_series = pd.isnull(df[\"Continent\"])\n",
        "null_countries = df[bool_series]\n",
        "null_countries[\"Country\"].unique()"
      ],
      "execution_count": null,
      "outputs": [
        {
          "output_type": "execute_result",
          "data": {
            "text/plain": [
              "array(['Congo (Kinshasa)', \"Cote d'Ivoire\", 'Diamond Princess',\n",
              "       'Eswatini', 'Korea, South', 'Kosovo', 'MS Zaandam', 'Syria',\n",
              "       'West Bank and Gaza'], dtype=object)"
            ]
          },
          "metadata": {
            "tags": []
          },
          "execution_count": 12
        }
      ]
    },
    {
      "cell_type": "code",
      "metadata": {
        "id": "FlIu9EwWNNjU"
      },
      "source": [
        ""
      ],
      "execution_count": null,
      "outputs": []
    },
    {
      "cell_type": "markdown",
      "metadata": {
        "id": "k1MonR92NOav"
      },
      "source": [
        "#### Diamond Princess and MS Zaandam are Cruise ships, while Kosovo and  West Bank and Gaza are both disputed areas and included in Serbia and Israel .\n",
        "\n",
        "#### Thus we can drop their rows as it wont affect our analysis"
      ]
    },
    {
      "cell_type": "code",
      "metadata": {
        "id": "hxd6C5hMNRpB"
      },
      "source": [
        "def continent1(row):\n",
        "    if row[\"Country\"] == \"Congo (Kinshasa)\":\n",
        "        row[\"Continent\"] = \"Africa\"\n",
        "    elif row[\"Country\"] == \"Korea, South\":\n",
        "        row[\"Continent\"] = \"Asia\"\n",
        "    elif row[\"Country\"] == \"Syria\":\n",
        "        row[\"Continent\"] = \"Asia\"\n",
        "    return row\n",
        "df = df.apply(continent1, axis = 1)"
      ],
      "execution_count": null,
      "outputs": []
    },
    {
      "cell_type": "code",
      "metadata": {
        "id": "4Q1tjWVbNWXu"
      },
      "source": [
        "df = df.dropna()\n"
      ],
      "execution_count": null,
      "outputs": []
    },
    {
      "cell_type": "code",
      "metadata": {
        "id": "Rr1bikOQNbo_",
        "outputId": "2c5e5859-aea9-453c-ebe1-42543eb55b80",
        "colab": {
          "base_uri": "https://localhost:8080/"
        }
      },
      "source": [
        "#Converting to datetime\n",
        "df[\"Datetime\"] = pd.to_datetime(df[\"Date\"])\n",
        "df.drop(\"Date\", axis = 1, inplace = True)\n",
        "df.info()"
      ],
      "execution_count": null,
      "outputs": [
        {
          "output_type": "stream",
          "text": [
            "<class 'pandas.core.frame.DataFrame'>\n",
            "Int64Index: 22932 entries, 0 to 23687\n",
            "Data columns (total 6 columns):\n",
            " #   Column     Non-Null Count  Dtype         \n",
            "---  ------     --------------  -----         \n",
            " 0   Country    22932 non-null  object        \n",
            " 1   Confirmed  22932 non-null  int64         \n",
            " 2   Recovered  22932 non-null  int64         \n",
            " 3   Deaths     22932 non-null  int64         \n",
            " 4   Continent  22932 non-null  object        \n",
            " 5   Datetime   22932 non-null  datetime64[ns]\n",
            "dtypes: datetime64[ns](1), int64(3), object(2)\n",
            "memory usage: 1.2+ MB\n"
          ],
          "name": "stdout"
        }
      ]
    },
    {
      "cell_type": "code",
      "metadata": {
        "id": "iHF_DeAsNvS7"
      },
      "source": [
        ""
      ],
      "execution_count": null,
      "outputs": []
    },
    {
      "cell_type": "markdown",
      "metadata": {
        "id": "4_lnSE8hN7en"
      },
      "source": [
        "**As we see, the disease spread from China to other world starting from Feb 2020**"
      ]
    },
    {
      "cell_type": "code",
      "metadata": {
        "id": "Ei5rvTCmN-_o",
        "outputId": "115e08b9-384a-405f-e4df-7032f473912e",
        "colab": {
          "base_uri": "https://localhost:8080/",
          "height": 623
        }
      },
      "source": [
        "china = df[df['Country'] == 'China']\n",
        "china = china.groupby(\"Datetime\")[[\"Confirmed\", \"Recovered\", \"Deaths\"]].agg(np.sum)\n",
        "plt.figure().set_size_inches(15,10)\n",
        "sns.lineplot(x = \"Datetime\", y = \"Confirmed\", data = china)\n",
        "sns.lineplot(x = \"Datetime\", y = \"Recovered\", data = china)\n",
        "sns.lineplot(x = \"Datetime\", y = \"Deaths\", data = china)"
      ],
      "execution_count": null,
      "outputs": [
        {
          "output_type": "execute_result",
          "data": {
            "text/plain": [
              "<matplotlib.axes._subplots.AxesSubplot at 0x7f3d6929f9b0>"
            ]
          },
          "metadata": {
            "tags": []
          },
          "execution_count": 16
        },
        {
          "output_type": "display_data",
          "data": {
            "image/png": "[encoded data removed]",
            "text/plain": [
              "<Figure size 1080x720 with 1 Axes>"
            ]
          },
          "metadata": {
            "tags": [],
            "needs_background": "light"
          }
        }
      ]
    },
    {
      "cell_type": "code",
      "metadata": {
        "id": "aOubUha_ONlZ"
      },
      "source": [
        ""
      ],
      "execution_count": null,
      "outputs": []
    },
    {
      "cell_type": "markdown",
      "metadata": {
        "id": "bOBs3iIaSyH5"
      },
      "source": [
        "**While The pandemic started somewhere around Dec, we saw a dramatic spike in cases in Jan and Feb, but was controlled and remained constant at approx 80,000**\n",
        "\n",
        "**Death Rate remained low and recovery rate high** "
      ]
    },
    {
      "cell_type": "code",
      "metadata": {
        "id": "1-MkMgYZQTcn",
        "outputId": "6933cf15-e01c-4822-ad4e-985473a9ec8b",
        "colab": {
          "base_uri": "https://localhost:8080/",
          "height": 633
        }
      },
      "source": [
        "df_grp = df.groupby(\"Datetime\")[[\"Confirmed\", \"Recovered\", \"Deaths\"]].agg(np.sum)\n",
        "plt.figure().set_size_inches(15,10)\n",
        "sns.lineplot(x = \"Datetime\", y = \"Confirmed\", data = df_grp)\n",
        "sns.lineplot(x = \"Datetime\", y = \"Recovered\", data = df_grp)\n",
        "sns.lineplot(x = \"Datetime\", y = \"Deaths\", data = df_grp)"
      ],
      "execution_count": null,
      "outputs": [
        {
          "output_type": "execute_result",
          "data": {
            "text/plain": [
              "<matplotlib.axes._subplots.AxesSubplot at 0x7f3d6922fa58>"
            ]
          },
          "metadata": {
            "tags": []
          },
          "execution_count": 17
        },
        {
          "output_type": "display_data",
          "data": {
            "image/png": "[encoded data removed]",
            "text/plain": [
              "<Figure size 1080x720 with 1 Axes>"
            ]
          },
          "metadata": {
            "tags": [],
            "needs_background": "light"
          }
        }
      ]
    },
    {
      "cell_type": "markdown",
      "metadata": {
        "id": "ObvOva9bTbHc"
      },
      "source": [
        "**As we see, the disease spread from China to other world starting from Feb 2020**"
      ]
    },
    {
      "cell_type": "markdown",
      "metadata": {
        "id": "E1kvCmm3TWzK"
      },
      "source": [
        "## THE WHO PANDEMIC PHASES\n",
        "\n",
        "The grouping and description of pandemic phases have been revised to make them easier to understand, more precise, and based upon observable phenomena.\n",
        "\n",
        "### Stage 1\n",
        "\n",
        "In the first stage of a pandemic, the disease doesn’t spread locally - cases reported are usually people who have had travel history to an already affected country.\n",
        "\n",
        "### Stage 2\n",
        "\n",
        "This is the stage of local transmission - when people who have brought the virus into the country transmit it to people they come in contact with, usually friends and family. At this stage, it is easy to trace spread and quarantine people.\n",
        "\n",
        "### Stage 3\n",
        "\n",
        "The third stage is when the source of the infection is untraceable; this stage is identified by people who haven’t had travel history getting affected by the virus - once here spread is extremely contagious and difficult to control\n",
        "\n",
        "### Stage 4\n",
        "\n",
        "Spread is practically uncontrollable and there are many major clusters of infection all over the countries.\n"
      ]
    },
    {
      "cell_type": "code",
      "metadata": {
        "id": "pdZoUgkMTSLR"
      },
      "source": [
        ""
      ],
      "execution_count": null,
      "outputs": []
    },
    {
      "cell_type": "markdown",
      "metadata": {
        "id": "os9NXfaVV9mm"
      },
      "source": [
        "As we know the first stages of the virus were noticed in late December and January, that was the first and second stages in China, the number was less than 500 and lockdown applied then would have brought down the pandemic. But unfortunately it was'nt taken too seriously by China and WHO.\n",
        "\n",
        "As we see, right at the start of Feb, the number of cases in China spiked and the stage 3 of pandemic begin. The people started running away from Wuhan and towards their own countries. This led to mass spread of disease. \n",
        "\n",
        "In just 15 days, around 15th Feb, China entered stage 4\n",
        "\n",
        "Looking at the world data, we can see the early spikes in mid -February. Travel ban should have occured then. But most of the countries were lazy in their application of ban. \n",
        "\n",
        "By March 15, many of the countries were entering into stage 2 of the pandemic where the people around those who travelled were getting infected.\n",
        "\n",
        "Stage 3 started by march end, where there was increase in cases as Health care workers and Govt officials were getting infected.\n",
        "\n",
        "By Mid- April, the situation entered stage 4, where there was exponential growth of cases and literally every country on the planet was affected."
      ]
    },
    {
      "cell_type": "code",
      "metadata": {
        "id": "qK8e7Ld3Ykqb"
      },
      "source": [
        "def plotfig(a):\n",
        "  plt.figure().set_size_inches(15,10)\n",
        "  sns.lineplot(x = \"Datetime\", y = \"Confirmed\", data = a)\n",
        "  sns.lineplot(x = \"Datetime\", y = \"Recovered\", data = a)\n",
        "  sns.lineplot(x = \"Datetime\", y = \"Deaths\", data = a)\n"
      ],
      "execution_count": null,
      "outputs": []
    },
    {
      "cell_type": "markdown",
      "metadata": {
        "id": "4SvkL9B3YbWd"
      },
      "source": [
        "# Asia "
      ]
    },
    {
      "cell_type": "code",
      "metadata": {
        "id": "moE0Y06WYoSv",
        "outputId": "78c33656-6cba-4a49-ce74-5a2dfae7a2ac",
        "colab": {
          "base_uri": "https://localhost:8080/",
          "height": 616
        }
      },
      "source": [
        "asia = df[df[\"Continent\"] == \"Asia\"]\n",
        "asia = asia.groupby(\"Datetime\")[[\"Confirmed\", \"Recovered\", \"Deaths\"]].agg(np.sum)\n",
        "plotfig(asia)"
      ],
      "execution_count": null,
      "outputs": [
        {
          "output_type": "display_data",
          "data": {
            "image/png": "[encoded data removed]",
            "text/plain": [
              "<Figure size 1080x720 with 1 Axes>"
            ]
          },
          "metadata": {
            "tags": [],
            "needs_background": "light"
          }
        }
      ]
    },
    {
      "cell_type": "markdown",
      "metadata": {
        "id": "UsHPqW59aef9"
      },
      "source": [
        "**At start, China Contributed a lot of cases in Asia, but other countries started to pick up.**\n",
        "**The death rate remains very very low for Asian countries**"
      ]
    },
    {
      "cell_type": "markdown",
      "metadata": {
        "id": "YYc9tf8KZDkR"
      },
      "source": [
        "# Africa"
      ]
    },
    {
      "cell_type": "code",
      "metadata": {
        "id": "qwthKrgCYOac",
        "outputId": "14c806f6-221c-4b8b-d843-0960f50c4c2d",
        "colab": {
          "base_uri": "https://localhost:8080/",
          "height": 606
        }
      },
      "source": [
        "africa = df[df[\"Continent\"]==\"Africa\"]\n",
        "africa = africa.groupby(\"Datetime\")[[\"Confirmed\", \"Recovered\", \"Deaths\"]].agg(np.sum)\n",
        "plotfig(africa)"
      ],
      "execution_count": null,
      "outputs": [
        {
          "output_type": "display_data",
          "data": {
            "image/png": "[encoded data removed]",
            "text/plain": [
              "<Figure size 1080x720 with 1 Axes>"
            ]
          },
          "metadata": {
            "tags": [],
            "needs_background": "light"
          }
        }
      ]
    },
    {
      "cell_type": "markdown",
      "metadata": {
        "id": "No5F9LYtaD_N"
      },
      "source": [
        "**Thus the pandamic in africa started around mid march and grew exponentially**\n",
        "**Compared to other continent, the cases are very low**"
      ]
    },
    {
      "cell_type": "markdown",
      "metadata": {
        "id": "Q1bse70SZWFe"
      },
      "source": [
        "# Americas"
      ]
    },
    {
      "cell_type": "code",
      "metadata": {
        "id": "ytyZnaHcZTT3",
        "outputId": "67f5e7d0-4aa1-4664-91f6-722af18889c6",
        "colab": {
          "base_uri": "https://localhost:8080/",
          "height": 616
        }
      },
      "source": [
        "americas = df[df[\"Continent\"] == \"Americas\"]\n",
        "americas = americas.groupby(\"Datetime\")[[\"Confirmed\", \"Recovered\", \"Deaths\"]].agg(np.sum)\n",
        "plotfig(americas)"
      ],
      "execution_count": null,
      "outputs": [
        {
          "output_type": "display_data",
          "data": {
            "image/png": "[encoded data removed]",
            "text/plain": [
              "<Figure size 1080x720 with 1 Axes>"
            ]
          },
          "metadata": {
            "tags": [],
            "needs_background": "light"
          }
        }
      ]
    },
    {
      "cell_type": "markdown",
      "metadata": {
        "id": "461ihPfvZ2fq"
      },
      "source": [
        "**The American Continents were both affected around Mid-March. Notice the big gap between Recovered and Confirmed cases. Either people were taking too long to recover or Death Rate was High in this continent**"
      ]
    },
    {
      "cell_type": "code",
      "metadata": {
        "id": "8LNSpVumZjcx",
        "outputId": "fa02f971-3aa9-48c2-8caf-718cfeb7878b",
        "colab": {
          "base_uri": "https://localhost:8080/",
          "height": 616
        }
      },
      "source": [
        "europe = df[df[\"Continent\"] == \"Europe\"]\n",
        "europe = europe.groupby(\"Datetime\")[[\"Confirmed\", \"Recovered\", \"Deaths\"]].agg(np.sum)\n",
        "plotfig(europe)"
      ],
      "execution_count": null,
      "outputs": [
        {
          "output_type": "display_data",
          "data": {
            "image/png": "[encoded data removed]",
            "text/plain": [
              "<Figure size 1080x720 with 1 Axes>"
            ]
          },
          "metadata": {
            "tags": [],
            "needs_background": "light"
          }
        }
      ]
    },
    {
      "cell_type": "markdown",
      "metadata": {
        "id": "KjKrG7U8ZzMI"
      },
      "source": [
        "**Here too the Gap between the Confirmed and recovered cases is big, and death rate is higher than other continents. (Maybe due to colder conditions in these areas??)**"
      ]
    },
    {
      "cell_type": "markdown",
      "metadata": {
        "id": "3DoHVv6qa89x"
      },
      "source": [
        "# Australia New zealand"
      ]
    },
    {
      "cell_type": "code",
      "metadata": {
        "id": "LPod2cSZZqzi",
        "outputId": "abb3b1d0-f098-4c60-b447-5bbe94aef2b8",
        "colab": {
          "base_uri": "https://localhost:8080/",
          "height": 606
        }
      },
      "source": [
        "oceania = df[df[\"Continent\"] == \"Oceania\"]\n",
        "oceania = oceania.groupby(\"Datetime\")[[\"Confirmed\", \"Recovered\", \"Deaths\"]].agg(np.sum)\n",
        "plotfig(oceania)"
      ],
      "execution_count": null,
      "outputs": [
        {
          "output_type": "display_data",
          "data": {
            "image/png": "[encoded data removed]",
            "text/plain": [
              "<Figure size 1080x720 with 1 Axes>"
            ]
          },
          "metadata": {
            "tags": [],
            "needs_background": "light"
          }
        }
      ]
    },
    {
      "cell_type": "markdown",
      "metadata": {
        "id": "KnGC59d8bLEV"
      },
      "source": [
        "**The confirmed cases spike was much bigger in these areas than other continents, but the number is much smaller.  Plus the recovery seems to be really good, and the death rate low**"
      ]
    },
    {
      "cell_type": "markdown",
      "metadata": {
        "id": "tH6R1h4SbUFk"
      },
      "source": [
        "# Now lets analyse top 10 countries with most cases"
      ]
    },
    {
      "cell_type": "code",
      "metadata": {
        "id": "ZrSKu1MhbGyf",
        "outputId": "c2f2a925-4936-430d-f1d4-77b55f4c591d",
        "colab": {
          "base_uri": "https://localhost:8080/",
          "height": 394
        }
      },
      "source": [
        "top10 = df.groupby(\"Country\").agg({\"Confirmed\" : np.max})\n",
        "#top10 = top10[\"Confirmed\"]\n",
        "top10 = top10.sort_values(\"Confirmed\", axis = 0, ascending = False).head(10)\n",
        "top10"
      ],
      "execution_count": null,
      "outputs": [
        {
          "output_type": "execute_result",
          "data": {
            "text/html": [
              "<div>\n",
              "<style scoped>\n",
              "    .dataframe tbody tr th:only-of-type {\n",
              "        vertical-align: middle;\n",
              "    }\n",
              "\n",
              "    .dataframe tbody tr th {\n",
              "        vertical-align: top;\n",
              "    }\n",
              "\n",
              "    .dataframe thead th {\n",
              "        text-align: right;\n",
              "    }\n",
              "</style>\n",
              "<table border=\"1\" class=\"dataframe\">\n",
              "  <thead>\n",
              "    <tr style=\"text-align: right;\">\n",
              "      <th></th>\n",
              "      <th>Confirmed</th>\n",
              "    </tr>\n",
              "    <tr>\n",
              "      <th>Country</th>\n",
              "      <th></th>\n",
              "    </tr>\n",
              "  </thead>\n",
              "  <tbody>\n",
              "    <tr>\n",
              "      <th>US</th>\n",
              "      <td>1680913</td>\n",
              "    </tr>\n",
              "    <tr>\n",
              "      <th>Brazil</th>\n",
              "      <td>391222</td>\n",
              "    </tr>\n",
              "    <tr>\n",
              "      <th>Russia</th>\n",
              "      <td>362342</td>\n",
              "    </tr>\n",
              "    <tr>\n",
              "      <th>United Kingdom</th>\n",
              "      <td>266599</td>\n",
              "    </tr>\n",
              "    <tr>\n",
              "      <th>Spain</th>\n",
              "      <td>236259</td>\n",
              "    </tr>\n",
              "    <tr>\n",
              "      <th>Italy</th>\n",
              "      <td>230555</td>\n",
              "    </tr>\n",
              "    <tr>\n",
              "      <th>France</th>\n",
              "      <td>183067</td>\n",
              "    </tr>\n",
              "    <tr>\n",
              "      <th>Germany</th>\n",
              "      <td>181200</td>\n",
              "    </tr>\n",
              "    <tr>\n",
              "      <th>Turkey</th>\n",
              "      <td>158762</td>\n",
              "    </tr>\n",
              "    <tr>\n",
              "      <th>India</th>\n",
              "      <td>150793</td>\n",
              "    </tr>\n",
              "  </tbody>\n",
              "</table>\n",
              "</div>"
            ],
            "text/plain": [
              "                Confirmed\n",
              "Country                  \n",
              "US                1680913\n",
              "Brazil             391222\n",
              "Russia             362342\n",
              "United Kingdom     266599\n",
              "Spain              236259\n",
              "Italy              230555\n",
              "France             183067\n",
              "Germany            181200\n",
              "Turkey             158762\n",
              "India              150793"
            ]
          },
          "metadata": {
            "tags": []
          },
          "execution_count": 24
        }
      ]
    },
    {
      "cell_type": "markdown",
      "metadata": {
        "id": "K32-6tAMeqSZ"
      },
      "source": [
        "**Lets see top10 countries by death**"
      ]
    },
    {
      "cell_type": "code",
      "metadata": {
        "id": "YphimvBub3Fb",
        "outputId": "1415b7e3-b6e3-4c0d-f7a8-ea61d39f6021",
        "colab": {
          "base_uri": "https://localhost:8080/",
          "height": 394
        }
      },
      "source": [
        "top10_deaths = df.groupby([\"Country\"]).agg({\"Deaths\" : np.max})\n",
        "top10_deaths = top10_deaths.sort_values(\"Deaths\", axis = 0, ascending = False).head(10)\n",
        "top10_deaths"
      ],
      "execution_count": null,
      "outputs": [
        {
          "output_type": "execute_result",
          "data": {
            "text/html": [
              "<div>\n",
              "<style scoped>\n",
              "    .dataframe tbody tr th:only-of-type {\n",
              "        vertical-align: middle;\n",
              "    }\n",
              "\n",
              "    .dataframe tbody tr th {\n",
              "        vertical-align: top;\n",
              "    }\n",
              "\n",
              "    .dataframe thead th {\n",
              "        text-align: right;\n",
              "    }\n",
              "</style>\n",
              "<table border=\"1\" class=\"dataframe\">\n",
              "  <thead>\n",
              "    <tr style=\"text-align: right;\">\n",
              "      <th></th>\n",
              "      <th>Deaths</th>\n",
              "    </tr>\n",
              "    <tr>\n",
              "      <th>Country</th>\n",
              "      <th></th>\n",
              "    </tr>\n",
              "  </thead>\n",
              "  <tbody>\n",
              "    <tr>\n",
              "      <th>US</th>\n",
              "      <td>98913</td>\n",
              "    </tr>\n",
              "    <tr>\n",
              "      <th>United Kingdom</th>\n",
              "      <td>37130</td>\n",
              "    </tr>\n",
              "    <tr>\n",
              "      <th>Italy</th>\n",
              "      <td>32955</td>\n",
              "    </tr>\n",
              "    <tr>\n",
              "      <th>Spain</th>\n",
              "      <td>28752</td>\n",
              "    </tr>\n",
              "    <tr>\n",
              "      <th>France</th>\n",
              "      <td>28533</td>\n",
              "    </tr>\n",
              "    <tr>\n",
              "      <th>Brazil</th>\n",
              "      <td>24512</td>\n",
              "    </tr>\n",
              "    <tr>\n",
              "      <th>Belgium</th>\n",
              "      <td>9334</td>\n",
              "    </tr>\n",
              "    <tr>\n",
              "      <th>Germany</th>\n",
              "      <td>8372</td>\n",
              "    </tr>\n",
              "    <tr>\n",
              "      <th>Mexico</th>\n",
              "      <td>8134</td>\n",
              "    </tr>\n",
              "    <tr>\n",
              "      <th>Iran</th>\n",
              "      <td>7508</td>\n",
              "    </tr>\n",
              "  </tbody>\n",
              "</table>\n",
              "</div>"
            ],
            "text/plain": [
              "                Deaths\n",
              "Country               \n",
              "US               98913\n",
              "United Kingdom   37130\n",
              "Italy            32955\n",
              "Spain            28752\n",
              "France           28533\n",
              "Brazil           24512\n",
              "Belgium           9334\n",
              "Germany           8372\n",
              "Mexico            8134\n",
              "Iran              7508"
            ]
          },
          "metadata": {
            "tags": []
          },
          "execution_count": 25
        }
      ]
    },
    {
      "cell_type": "markdown",
      "metadata": {
        "id": "pQlMfeW9fKPu"
      },
      "source": [
        "**Most of the first world countries seem to have high death rate, Mexico and Iran, which are both not in top 10 list of confirmed cases are in top 10 list of deaths, which is surprising**\n",
        "\n",
        "**India, Turkey and Russia seem to be well off in number of deaths.**\n",
        "\n",
        "**Before it was said that maybe due to high cold, the cases in Europian countries might be higher, which is looking more and more likely as we see the top 10 countries in the list are mosty located in cold regions**\n"
      ]
    },
    {
      "cell_type": "markdown",
      "metadata": {
        "id": "9XlNwuYi-74z"
      },
      "source": [
        "# Analysis of India"
      ]
    },
    {
      "cell_type": "code",
      "metadata": {
        "id": "eUDK3YeVfA5i",
        "outputId": "0cdd83ac-7f92-4ef0-9310-70108dc297e8",
        "colab": {
          "base_uri": "https://localhost:8080/",
          "height": 206
        }
      },
      "source": [
        "india = df[df[\"Country\"] == \"India\"]\n",
        "india.head()"
      ],
      "execution_count": null,
      "outputs": [
        {
          "output_type": "execute_result",
          "data": {
            "text/html": [
              "<div>\n",
              "<style scoped>\n",
              "    .dataframe tbody tr th:only-of-type {\n",
              "        vertical-align: middle;\n",
              "    }\n",
              "\n",
              "    .dataframe tbody tr th {\n",
              "        vertical-align: top;\n",
              "    }\n",
              "\n",
              "    .dataframe thead th {\n",
              "        text-align: right;\n",
              "    }\n",
              "</style>\n",
              "<table border=\"1\" class=\"dataframe\">\n",
              "  <thead>\n",
              "    <tr style=\"text-align: right;\">\n",
              "      <th></th>\n",
              "      <th>Country</th>\n",
              "      <th>Confirmed</th>\n",
              "      <th>Recovered</th>\n",
              "      <th>Deaths</th>\n",
              "      <th>Continent</th>\n",
              "      <th>Datetime</th>\n",
              "    </tr>\n",
              "  </thead>\n",
              "  <tbody>\n",
              "    <tr>\n",
              "      <th>79</th>\n",
              "      <td>India</td>\n",
              "      <td>0</td>\n",
              "      <td>0</td>\n",
              "      <td>0</td>\n",
              "      <td>Asia</td>\n",
              "      <td>2020-01-22</td>\n",
              "    </tr>\n",
              "    <tr>\n",
              "      <th>267</th>\n",
              "      <td>India</td>\n",
              "      <td>0</td>\n",
              "      <td>0</td>\n",
              "      <td>0</td>\n",
              "      <td>Asia</td>\n",
              "      <td>2020-01-23</td>\n",
              "    </tr>\n",
              "    <tr>\n",
              "      <th>455</th>\n",
              "      <td>India</td>\n",
              "      <td>0</td>\n",
              "      <td>0</td>\n",
              "      <td>0</td>\n",
              "      <td>Asia</td>\n",
              "      <td>2020-01-24</td>\n",
              "    </tr>\n",
              "    <tr>\n",
              "      <th>643</th>\n",
              "      <td>India</td>\n",
              "      <td>0</td>\n",
              "      <td>0</td>\n",
              "      <td>0</td>\n",
              "      <td>Asia</td>\n",
              "      <td>2020-01-25</td>\n",
              "    </tr>\n",
              "    <tr>\n",
              "      <th>831</th>\n",
              "      <td>India</td>\n",
              "      <td>0</td>\n",
              "      <td>0</td>\n",
              "      <td>0</td>\n",
              "      <td>Asia</td>\n",
              "      <td>2020-01-26</td>\n",
              "    </tr>\n",
              "  </tbody>\n",
              "</table>\n",
              "</div>"
            ],
            "text/plain": [
              "    Country  Confirmed  Recovered  Deaths Continent   Datetime\n",
              "79    India          0          0       0      Asia 2020-01-22\n",
              "267   India          0          0       0      Asia 2020-01-23\n",
              "455   India          0          0       0      Asia 2020-01-24\n",
              "643   India          0          0       0      Asia 2020-01-25\n",
              "831   India          0          0       0      Asia 2020-01-26"
            ]
          },
          "metadata": {
            "tags": []
          },
          "execution_count": 26
        }
      ]
    },
    {
      "cell_type": "markdown",
      "metadata": {
        "id": "3Tg-OevO_GyA"
      },
      "source": [
        "Lets see the timeline "
      ]
    },
    {
      "cell_type": "code",
      "metadata": {
        "id": "0ufFRiTZ_EOi",
        "outputId": "02173c1f-bdc1-43b6-f916-e5b0d413fc7f",
        "colab": {
          "base_uri": "https://localhost:8080/",
          "height": 606
        }
      },
      "source": [
        "plotfig(india)"
      ],
      "execution_count": null,
      "outputs": [
        {
          "output_type": "display_data",
          "data": {
            "image/png": "[encoded data removed]",
            "text/plain": [
              "<Figure size 1080x720 with 1 Axes>"
            ]
          },
          "metadata": {
            "tags": [],
            "needs_background": "light"
          }
        }
      ]
    },
    {
      "cell_type": "code",
      "metadata": {
        "id": "omeKLLPD_VWG",
        "outputId": "f05f4504-d65b-44b3-b23d-16873ce32be1",
        "colab": {
          "base_uri": "https://localhost:8080/",
          "height": 582
        }
      },
      "source": [
        "ind_dict = {}\n",
        "for i in [1,100,1000,10000,100000]:\n",
        "  ind_dict[india[india[\"Confirmed\"]>=i][\"Datetime\"].iloc[0]] = i\n",
        "ind_dict[india.tail(1)[\"Datetime\"].iloc[0]] = india.tail(1)[\"Confirmed\"].iloc[0]\n",
        "case_df = pd.Series(ind_dict)\n",
        "case_df.plot(figsize=(15,10))"
      ],
      "execution_count": null,
      "outputs": [
        {
          "output_type": "execute_result",
          "data": {
            "text/plain": [
              "<matplotlib.axes._subplots.AxesSubplot at 0x7f3d5d176fd0>"
            ]
          },
          "metadata": {
            "tags": []
          },
          "execution_count": 92
        },
        {
          "output_type": "display_data",
          "data": {
            "image/png": "[encoded data removed]",
            "text/plain": [
              "<Figure size 1080x720 with 1 Axes>"
            ]
          },
          "metadata": {
            "tags": [],
            "needs_background": "light"
          }
        }
      ]
    },
    {
      "cell_type": "markdown",
      "metadata": {
        "id": "BGnNF0L3Da53"
      },
      "source": [
        "1st case was found on Jan 30\n",
        "\n",
        "It took nearly 45 to reach 100 cases (14-03-2020)\n",
        "\n",
        "But in the next 14 days, the cases reached 1000! (29-03-2020)\n",
        "\n",
        "And in the next 15 days the cases reached 10000! (13-04-2020)\n",
        "\n",
        "Next 1 month : 1,00,000 (18-05-2020)\n",
        "\n",
        "On 26-05-2020, the number of cases were 150793\n",
        "\n"
      ]
    },
    {
      "cell_type": "code",
      "metadata": {
        "id": "PUBvlqKY_8sY",
        "outputId": "32518f54-d98a-4266-d57a-399488a5de19",
        "colab": {
          "base_uri": "https://localhost:8080/"
        }
      },
      "source": [
        "case_df"
      ],
      "execution_count": null,
      "outputs": [
        {
          "output_type": "execute_result",
          "data": {
            "text/plain": [
              "2020-01-30         1\n",
              "2020-03-14       100\n",
              "2020-03-29      1000\n",
              "2020-04-13     10000\n",
              "2020-05-18    100000\n",
              "2020-05-26    150793\n",
              "dtype: int64"
            ]
          },
          "metadata": {
            "tags": []
          },
          "execution_count": 83
        }
      ]
    },
    {
      "cell_type": "markdown",
      "metadata": {
        "id": "F6RAQ38vMDut"
      },
      "source": [
        "Lets explore Death rates more"
      ]
    },
    {
      "cell_type": "code",
      "metadata": {
        "id": "h-nELQ6LAgjb",
        "outputId": "ec4e0f7d-61f3-490b-aebc-8b3797086191",
        "colab": {
          "base_uri": "https://localhost:8080/",
          "height": 623
        }
      },
      "source": [
        "plt.figure().set_size_inches(15,10)\n",
        "sns.lineplot(x = \"Datetime\", y = \"Deaths\", data = india)\n",
        "sns.lineplot(x = \"Datetime\", y = \"Recovered\", data = india)"
      ],
      "execution_count": null,
      "outputs": [
        {
          "output_type": "execute_result",
          "data": {
            "text/plain": [
              "<matplotlib.axes._subplots.AxesSubplot at 0x7f3d5d5fa3c8>"
            ]
          },
          "metadata": {
            "tags": []
          },
          "execution_count": 86
        },
        {
          "output_type": "display_data",
          "data": {
            "image/png": "[encoded data removed]",
            "text/plain": [
              "<Figure size 1080x720 with 1 Axes>"
            ]
          },
          "metadata": {
            "tags": [],
            "needs_background": "light"
          }
        }
      ]
    },
    {
      "cell_type": "code",
      "metadata": {
        "id": "CMkLl2ydNjIz",
        "outputId": "ca75575a-f6c3-40ec-e9a3-27331a7ac1ea",
        "colab": {
          "base_uri": "https://localhost:8080/",
          "height": 582
        }
      },
      "source": [
        "ind_deaths = {}\n",
        "for i in [1,100,500,1000]:\n",
        "  ind_deaths[india[india[\"Deaths\"]>=i][\"Datetime\"].iloc[0]] = i\n",
        "ind_deaths[india.tail(1)[\"Datetime\"].iloc[0]] = india.tail(1)[\"Deaths\"].iloc[0]\n",
        "case_df = pd.Series(ind_deaths)\n",
        "case_df.plot(figsize=(15,10))"
      ],
      "execution_count": null,
      "outputs": [
        {
          "output_type": "execute_result",
          "data": {
            "text/plain": [
              "<matplotlib.axes._subplots.AxesSubplot at 0x7f3d5d0e8208>"
            ]
          },
          "metadata": {
            "tags": []
          },
          "execution_count": 93
        },
        {
          "output_type": "display_data",
          "data": {
            "image/png": "[encoded data removed]",
            "text/plain": [
              "<Figure size 1080x720 with 1 Axes>"
            ]
          },
          "metadata": {
            "tags": [],
            "needs_background": "light"
          }
        }
      ]
    },
    {
      "cell_type": "code",
      "metadata": {
        "id": "3_KfCqecPltH",
        "outputId": "a8d2cb0c-63c6-4b23-b55d-d11c2ed0e29d",
        "colab": {
          "base_uri": "https://localhost:8080/"
        }
      },
      "source": [
        "case_df"
      ],
      "execution_count": null,
      "outputs": [
        {
          "output_type": "execute_result",
          "data": {
            "text/plain": [
              "2020-03-11       1\n",
              "2020-04-06     100\n",
              "2020-04-18     500\n",
              "2020-04-28    1000\n",
              "2020-05-26    4344\n",
              "dtype: int64"
            ]
          },
          "metadata": {
            "tags": []
          },
          "execution_count": 91
        }
      ]
    },
    {
      "cell_type": "code",
      "metadata": {
        "id": "bV6_RIThPog3",
        "outputId": "3370687c-6f88-4496-c06a-74ab46a8d05a",
        "colab": {
          "base_uri": "https://localhost:8080/",
          "height": 609
        }
      },
      "source": [
        "rate = {}\n",
        "rate[\"recovery_rate\"] = np.mean((india[\"Recovered\"]/ india[\"Confirmed\"])*100)\n",
        "rate[\"death_rate\"] = np.mean((india[\"Deaths\"]/india[\"Confirmed\"])*100)\n",
        "keys = rate.keys()\n",
        "values = rate.values()\n",
        "plt.figure().set_size_inches(15,10)\n",
        "plt.bar(keys,values)"
      ],
      "execution_count": null,
      "outputs": [
        {
          "output_type": "execute_result",
          "data": {
            "text/plain": [
              "<BarContainer object of 2 artists>"
            ]
          },
          "metadata": {
            "tags": []
          },
          "execution_count": 103
        },
        {
          "output_type": "display_data",
          "data": {
            "image/png": "[encoded data removed]",
            "text/plain": [
              "<Figure size 1080x720 with 1 Axes>"
            ]
          },
          "metadata": {
            "tags": [],
            "needs_background": "light"
          }
        }
      ]
    },
    {
      "cell_type": "code",
      "metadata": {
        "id": "TQxr46B1R004",
        "outputId": "d00dc6dc-8abd-42e8-c1f7-19b6caad4c82",
        "colab": {
          "base_uri": "https://localhost:8080/",
          "height": 609
        }
      },
      "source": [
        "cases = {}\n",
        "cases[\"Confirmed\"] = india.tail(1)[\"Confirmed\"].iloc[0]\n",
        "cases[\"Recovered\"] = india.tail(1)[\"Recovered\"].iloc[0]\n",
        "cases[\"Deaths\"] = india.tail(1)[\"Deaths\"].iloc[0]\n",
        "plt.figure().set_size_inches(15,10)\n",
        "plt.bar(cases.keys(), cases.values())"
      ],
      "execution_count": null,
      "outputs": [
        {
          "output_type": "execute_result",
          "data": {
            "text/plain": [
              "<BarContainer object of 3 artists>"
            ]
          },
          "metadata": {
            "tags": []
          },
          "execution_count": 105
        },
        {
          "output_type": "display_data",
          "data": {
            "image/png": "[encoded data removed]",
            "text/plain": [
              "<Figure size 1080x720 with 1 Axes>"
            ]
          },
          "metadata": {
            "tags": [],
            "needs_background": "light"
          }
        }
      ]
    },
    {
      "cell_type": "markdown",
      "metadata": {
        "id": "hv4G1nX5WCaK"
      },
      "source": [
        " # Forecasting Total Number of Cases Worldwide"
      ]
    },
    {
      "cell_type": "markdown",
      "metadata": {
        "id": "iRaDxyhFqrMx"
      },
      "source": [
        "## Prophet"
      ]
    },
    {
      "cell_type": "code",
      "metadata": {
        "id": "AgKJtYNySu91",
        "outputId": "256803ff-6058-494b-e46c-be67229fe3b3",
        "colab": {
          "base_uri": "https://localhost:8080/",
          "height": 202
        }
      },
      "source": [
        "from fbprophet import Prophet\n",
        "# print version number\n",
        "print('Prophet %s' % prophet.__version__)"
      ],
      "execution_count": null,
      "outputs": [
        {
          "output_type": "error",
          "ename": "NameError",
          "evalue": "ignored",
          "traceback": [
            "\u001b[0;31m---------------------------------------------------------------------------\u001b[0m",
            "\u001b[0;31mNameError\u001b[0m                                 Traceback (most recent call last)",
            "\u001b[0;32m<ipython-input-2-27fef96ca497>\u001b[0m in \u001b[0;36m<module>\u001b[0;34m()\u001b[0m\n\u001b[1;32m      1\u001b[0m \u001b[0;32mfrom\u001b[0m \u001b[0mfbprophet\u001b[0m \u001b[0;32mimport\u001b[0m \u001b[0mProphet\u001b[0m\u001b[0;34m\u001b[0m\u001b[0;34m\u001b[0m\u001b[0m\n\u001b[1;32m      2\u001b[0m \u001b[0;31m# print version number\u001b[0m\u001b[0;34m\u001b[0m\u001b[0;34m\u001b[0m\u001b[0;34m\u001b[0m\u001b[0m\n\u001b[0;32m----> 3\u001b[0;31m \u001b[0mprint\u001b[0m\u001b[0;34m(\u001b[0m\u001b[0;34m'Prophet %s'\u001b[0m \u001b[0;34m%\u001b[0m \u001b[0mprophet\u001b[0m\u001b[0;34m.\u001b[0m\u001b[0m__version__\u001b[0m\u001b[0;34m)\u001b[0m\u001b[0;34m\u001b[0m\u001b[0;34m\u001b[0m\u001b[0m\n\u001b[0m",
            "\u001b[0;31mNameError\u001b[0m: name 'prophet' is not defined"
          ]
        }
      ]
    },
    {
      "cell_type": "code",
      "metadata": {
        "id": "7XlOUYHYUwnw",
        "outputId": "d0708fbc-2d23-4808-e4f1-3017a1be49db",
        "colab": {
          "base_uri": "https://localhost:8080/",
          "height": 206
        }
      },
      "source": [
        "confirmed = df.groupby(\"Datetime\")[\"Confirmed\"].agg(np.sum).reset_index()\n",
        "confirmed.columns = ['ds','y']\n",
        "confirmed.head()"
      ],
      "execution_count": null,
      "outputs": [
        {
          "output_type": "execute_result",
          "data": {
            "text/html": [
              "<div>\n",
              "<style scoped>\n",
              "    .dataframe tbody tr th:only-of-type {\n",
              "        vertical-align: middle;\n",
              "    }\n",
              "\n",
              "    .dataframe tbody tr th {\n",
              "        vertical-align: top;\n",
              "    }\n",
              "\n",
              "    .dataframe thead th {\n",
              "        text-align: right;\n",
              "    }\n",
              "</style>\n",
              "<table border=\"1\" class=\"dataframe\">\n",
              "  <thead>\n",
              "    <tr style=\"text-align: right;\">\n",
              "      <th></th>\n",
              "      <th>ds</th>\n",
              "      <th>y</th>\n",
              "    </tr>\n",
              "  </thead>\n",
              "  <tbody>\n",
              "    <tr>\n",
              "      <th>0</th>\n",
              "      <td>2020-01-22</td>\n",
              "      <td>555</td>\n",
              "    </tr>\n",
              "    <tr>\n",
              "      <th>1</th>\n",
              "      <td>2020-01-23</td>\n",
              "      <td>654</td>\n",
              "    </tr>\n",
              "    <tr>\n",
              "      <th>2</th>\n",
              "      <td>2020-01-24</td>\n",
              "      <td>941</td>\n",
              "    </tr>\n",
              "    <tr>\n",
              "      <th>3</th>\n",
              "      <td>2020-01-25</td>\n",
              "      <td>1434</td>\n",
              "    </tr>\n",
              "    <tr>\n",
              "      <th>4</th>\n",
              "      <td>2020-01-26</td>\n",
              "      <td>2118</td>\n",
              "    </tr>\n",
              "  </tbody>\n",
              "</table>\n",
              "</div>"
            ],
            "text/plain": [
              "          ds     y\n",
              "0 2020-01-22   555\n",
              "1 2020-01-23   654\n",
              "2 2020-01-24   941\n",
              "3 2020-01-25  1434\n",
              "4 2020-01-26  2118"
            ]
          },
          "metadata": {
            "tags": []
          },
          "execution_count": 110
        }
      ]
    },
    {
      "cell_type": "code",
      "metadata": {
        "id": "Uce_GdRTX27b"
      },
      "source": [
        "deaths = df.groupby(\"Datetime\")[\"Deaths\"].agg(np.sum).reset_index()\n",
        "deaths.columns = ['ds', 'y']\n",
        "recovered = df.groupby(\"Datetime\")[\"Recovered\"].agg(np.sum).reset_index()\n",
        "recovered.columns = ['ds', 'y']"
      ],
      "execution_count": null,
      "outputs": []
    },
    {
      "cell_type": "code",
      "metadata": {
        "id": "e_IElTS3YRjT",
        "outputId": "2ae6365c-a4f7-4f05-a110-d23b811e4d47",
        "colab": {
          "base_uri": "https://localhost:8080/"
        }
      },
      "source": [
        "#Fitting Prophet Model\n",
        "confirm_model = Prophet().fit(confirmed)\n"
      ],
      "execution_count": null,
      "outputs": [
        {
          "output_type": "stream",
          "text": [
            "INFO:fbprophet:Disabling yearly seasonality. Run prophet with yearly_seasonality=True to override this.\n",
            "INFO:fbprophet:Disabling daily seasonality. Run prophet with daily_seasonality=True to override this.\n"
          ],
          "name": "stderr"
        }
      ]
    },
    {
      "cell_type": "code",
      "metadata": {
        "id": "ZOfl4MV8YuoO",
        "outputId": "25945f60-9962-4b0f-da9e-4d1051fb5b3a",
        "colab": {
          "base_uri": "https://localhost:8080/",
          "height": 206
        }
      },
      "source": [
        "future = confirm_model.make_future_dataframe(periods = 150)        #Predicting what the confirmed cases would be for next 3 month\n",
        "future.tail() "
      ],
      "execution_count": null,
      "outputs": [
        {
          "output_type": "execute_result",
          "data": {
            "text/html": [
              "<div>\n",
              "<style scoped>\n",
              "    .dataframe tbody tr th:only-of-type {\n",
              "        vertical-align: middle;\n",
              "    }\n",
              "\n",
              "    .dataframe tbody tr th {\n",
              "        vertical-align: top;\n",
              "    }\n",
              "\n",
              "    .dataframe thead th {\n",
              "        text-align: right;\n",
              "    }\n",
              "</style>\n",
              "<table border=\"1\" class=\"dataframe\">\n",
              "  <thead>\n",
              "    <tr style=\"text-align: right;\">\n",
              "      <th></th>\n",
              "      <th>ds</th>\n",
              "    </tr>\n",
              "  </thead>\n",
              "  <tbody>\n",
              "    <tr>\n",
              "      <th>271</th>\n",
              "      <td>2020-10-19</td>\n",
              "    </tr>\n",
              "    <tr>\n",
              "      <th>272</th>\n",
              "      <td>2020-10-20</td>\n",
              "    </tr>\n",
              "    <tr>\n",
              "      <th>273</th>\n",
              "      <td>2020-10-21</td>\n",
              "    </tr>\n",
              "    <tr>\n",
              "      <th>274</th>\n",
              "      <td>2020-10-22</td>\n",
              "    </tr>\n",
              "    <tr>\n",
              "      <th>275</th>\n",
              "      <td>2020-10-23</td>\n",
              "    </tr>\n",
              "  </tbody>\n",
              "</table>\n",
              "</div>"
            ],
            "text/plain": [
              "            ds\n",
              "271 2020-10-19\n",
              "272 2020-10-20\n",
              "273 2020-10-21\n",
              "274 2020-10-22\n",
              "275 2020-10-23"
            ]
          },
          "metadata": {
            "tags": []
          },
          "execution_count": 125
        }
      ]
    },
    {
      "cell_type": "markdown",
      "metadata": {
        "id": "Zn8YHQluhL8w"
      },
      "source": [
        "So, 23-10-2020, will be our last date to predict"
      ]
    },
    {
      "cell_type": "code",
      "metadata": {
        "id": "aoL2G47LhKu0",
        "outputId": "20d30af9-df45-4219-baae-77a3ac2d47be",
        "colab": {
          "base_uri": "https://localhost:8080/",
          "height": 206
        }
      },
      "source": [
        "forecast = confirm_model.predict(future)\n",
        "forecast[['ds', 'yhat', 'yhat_lower', 'yhat_upper']].tail()"
      ],
      "execution_count": null,
      "outputs": [
        {
          "output_type": "execute_result",
          "data": {
            "text/html": [
              "<div>\n",
              "<style scoped>\n",
              "    .dataframe tbody tr th:only-of-type {\n",
              "        vertical-align: middle;\n",
              "    }\n",
              "\n",
              "    .dataframe tbody tr th {\n",
              "        vertical-align: top;\n",
              "    }\n",
              "\n",
              "    .dataframe thead th {\n",
              "        text-align: right;\n",
              "    }\n",
              "</style>\n",
              "<table border=\"1\" class=\"dataframe\">\n",
              "  <thead>\n",
              "    <tr style=\"text-align: right;\">\n",
              "      <th></th>\n",
              "      <th>ds</th>\n",
              "      <th>yhat</th>\n",
              "      <th>yhat_lower</th>\n",
              "      <th>yhat_upper</th>\n",
              "    </tr>\n",
              "  </thead>\n",
              "  <tbody>\n",
              "    <tr>\n",
              "      <th>271</th>\n",
              "      <td>2020-10-19</td>\n",
              "      <td>1.852456e+07</td>\n",
              "      <td>1.512306e+07</td>\n",
              "      <td>2.190820e+07</td>\n",
              "    </tr>\n",
              "    <tr>\n",
              "      <th>272</th>\n",
              "      <td>2020-10-20</td>\n",
              "      <td>1.861214e+07</td>\n",
              "      <td>1.517011e+07</td>\n",
              "      <td>2.203603e+07</td>\n",
              "    </tr>\n",
              "    <tr>\n",
              "      <th>273</th>\n",
              "      <td>2020-10-21</td>\n",
              "      <td>1.869892e+07</td>\n",
              "      <td>1.523404e+07</td>\n",
              "      <td>2.213851e+07</td>\n",
              "    </tr>\n",
              "    <tr>\n",
              "      <th>274</th>\n",
              "      <td>2020-10-22</td>\n",
              "      <td>1.879222e+07</td>\n",
              "      <td>1.527978e+07</td>\n",
              "      <td>2.229547e+07</td>\n",
              "    </tr>\n",
              "    <tr>\n",
              "      <th>275</th>\n",
              "      <td>2020-10-23</td>\n",
              "      <td>1.888555e+07</td>\n",
              "      <td>1.531002e+07</td>\n",
              "      <td>2.242265e+07</td>\n",
              "    </tr>\n",
              "  </tbody>\n",
              "</table>\n",
              "</div>"
            ],
            "text/plain": [
              "            ds          yhat    yhat_lower    yhat_upper\n",
              "271 2020-10-19  1.852456e+07  1.512306e+07  2.190820e+07\n",
              "272 2020-10-20  1.861214e+07  1.517011e+07  2.203603e+07\n",
              "273 2020-10-21  1.869892e+07  1.523404e+07  2.213851e+07\n",
              "274 2020-10-22  1.879222e+07  1.527978e+07  2.229547e+07\n",
              "275 2020-10-23  1.888555e+07  1.531002e+07  2.242265e+07"
            ]
          },
          "metadata": {
            "tags": []
          },
          "execution_count": 126
        }
      ]
    },
    {
      "cell_type": "markdown",
      "metadata": {
        "id": "klZQBeKXkA5f"
      },
      "source": [
        "so the model predicts there will be around max 224 million cases, but in reality, on oct - 23, there were 415 million cases worldwide.\n",
        "So the model is very much off from the target"
      ]
    },
    {
      "cell_type": "code",
      "metadata": {
        "id": "lyY6uS44rxwa",
        "outputId": "6dbba4f8-df72-41e8-fe75-c04acc1ef613",
        "colab": {
          "base_uri": "https://localhost:8080/",
          "height": 441
        }
      },
      "source": [
        "confirm_plot = confirm_model.plot(forecast)"
      ],
      "execution_count": null,
      "outputs": [
        {
          "output_type": "display_data",
          "data": {
            "image/png": "[encoded data removed]",
            "text/plain": [
              "<Figure size 720x432 with 1 Axes>"
            ]
          },
          "metadata": {
            "tags": []
          }
        }
      ]
    },
    {
      "cell_type": "markdown",
      "metadata": {
        "id": "FS8iN7hhj9nT"
      },
      "source": [
        "So the model is predicting Linear increase in the number of cases, while the increase has been exponential"
      ]
    },
    {
      "cell_type": "code",
      "metadata": {
        "id": "n1poqWL9q4I6"
      },
      "source": [
        ""
      ],
      "execution_count": null,
      "outputs": []
    }
  ]
}